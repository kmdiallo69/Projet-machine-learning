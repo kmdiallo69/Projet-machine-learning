{
 "cells": [
  {
   "cell_type": "markdown",
   "id": "edfa2753",
   "metadata": {
    "id": "edfa2753"
   },
   "source": [
    "***Objectif du projet:***\n",
    "    \n",
    "   1 - Exploration des données et analyse statistique sur Python.<br>\n",
    "   2 - Modélisation à l’aide d’algorithme d’apprentissage supervisé <br>\n",
    "   3 - Restitution des résultats en soutenance "
   ]
  },
  {
   "cell_type": "code",
   "execution_count": 3,
   "id": "83997f79",
   "metadata": {
    "id": "83997f79"
   },
   "outputs": [],
   "source": [
    "### Importons les librairies necessaires au traitement \n",
    "import numpy as np\n",
    "import pandas as pd\n",
    "import matplotlib as mpl\n",
    "import matplotlib.pyplot as plt\n",
    "%matplotlib inline\n",
    "import seaborn as sns\n",
    "import scipy.stats as st\n",
    "from scipy import stats\n",
    "from scipy.stats import norm, skew #for some statistics\n",
    "\n",
    "from sklearn import ensemble, tree, linear_model\n",
    "#import missingno as msno\n",
    "import plotly.express as px\n",
    "import plotly.graph_objects as go\n",
    "import plotly.figure_factory as ff\n",
    "from plotly.colors import n_colors\n",
    "from plotly.subplots import make_subplots\n",
    "from sklearn.model_selection import train_test_split\n",
    "from sklearn.linear_model import  Lasso\n",
    "from sklearn.pipeline import make_pipeline\n",
    "from sklearn.preprocessing import RobustScaler\n",
    "from sklearn.model_selection import KFold, cross_val_score, train_test_split\n",
    "from sklearn.metrics import mean_squared_error"
   ]
  },
  {
   "cell_type": "code",
   "execution_count": 5,
   "id": "45bc9353",
   "metadata": {
    "id": "45bc9353"
   },
   "outputs": [],
   "source": [
    "### chargeons les données\n",
    "df = pd.read_csv('listings.csv')\n"
   ]
  },
  {
   "cell_type": "code",
   "execution_count": 6,
   "id": "f6d63b98",
   "metadata": {
    "colab": {
     "base_uri": "https://localhost:8080/",
     "height": 564
    },
    "id": "f6d63b98",
    "outputId": "0c593be4-2860-4066-b4fa-402923fef04c"
   },
   "outputs": [
    {
     "data": {
      "text/html": [
       "<div>\n",
       "<style scoped>\n",
       "    .dataframe tbody tr th:only-of-type {\n",
       "        vertical-align: middle;\n",
       "    }\n",
       "\n",
       "    .dataframe tbody tr th {\n",
       "        vertical-align: top;\n",
       "    }\n",
       "\n",
       "    .dataframe thead th {\n",
       "        text-align: right;\n",
       "    }\n",
       "</style>\n",
       "<table border=\"1\" class=\"dataframe\">\n",
       "  <thead>\n",
       "    <tr style=\"text-align: right;\">\n",
       "      <th></th>\n",
       "      <th>id</th>\n",
       "      <th>listing_url</th>\n",
       "      <th>scrape_id</th>\n",
       "      <th>last_scraped</th>\n",
       "      <th>name</th>\n",
       "      <th>description</th>\n",
       "      <th>neighborhood_overview</th>\n",
       "      <th>picture_url</th>\n",
       "      <th>host_id</th>\n",
       "      <th>host_url</th>\n",
       "      <th>...</th>\n",
       "      <th>review_scores_communication</th>\n",
       "      <th>review_scores_location</th>\n",
       "      <th>review_scores_value</th>\n",
       "      <th>license</th>\n",
       "      <th>instant_bookable</th>\n",
       "      <th>calculated_host_listings_count</th>\n",
       "      <th>calculated_host_listings_count_entire_homes</th>\n",
       "      <th>calculated_host_listings_count_private_rooms</th>\n",
       "      <th>calculated_host_listings_count_shared_rooms</th>\n",
       "      <th>reviews_per_month</th>\n",
       "    </tr>\n",
       "  </thead>\n",
       "  <tbody>\n",
       "    <tr>\n",
       "      <th>0</th>\n",
       "      <td>2577</td>\n",
       "      <td>https://www.airbnb.com/rooms/2577</td>\n",
       "      <td>20210410122610</td>\n",
       "      <td>2021-04-14</td>\n",
       "      <td>Loft for 4 by Canal Saint Martin</td>\n",
       "      <td>100 m2 loft (1100 sq feet) with high ceiling, ...</td>\n",
       "      <td>NaN</td>\n",
       "      <td>https://a0.muscache.com/pictures/09da057c-0120...</td>\n",
       "      <td>2827</td>\n",
       "      <td>https://www.airbnb.com/users/show/2827</td>\n",
       "      <td>...</td>\n",
       "      <td>10.0</td>\n",
       "      <td>10.0</td>\n",
       "      <td>10.0</td>\n",
       "      <td>NaN</td>\n",
       "      <td>f</td>\n",
       "      <td>1</td>\n",
       "      <td>1</td>\n",
       "      <td>0</td>\n",
       "      <td>0</td>\n",
       "      <td>0.04</td>\n",
       "    </tr>\n",
       "    <tr>\n",
       "      <th>1</th>\n",
       "      <td>3109</td>\n",
       "      <td>https://www.airbnb.com/rooms/3109</td>\n",
       "      <td>20210410122610</td>\n",
       "      <td>2021-04-13</td>\n",
       "      <td>zen and calm</td>\n",
       "      <td>&lt;b&gt;The space&lt;/b&gt;&lt;br /&gt;I bedroom appartment in ...</td>\n",
       "      <td>Good restaurants&lt;br /&gt;very close the Montparna...</td>\n",
       "      <td>https://a0.muscache.com/pictures/baeae9e2-cd53...</td>\n",
       "      <td>3631</td>\n",
       "      <td>https://www.airbnb.com/users/show/3631</td>\n",
       "      <td>...</td>\n",
       "      <td>10.0</td>\n",
       "      <td>10.0</td>\n",
       "      <td>10.0</td>\n",
       "      <td>NaN</td>\n",
       "      <td>f</td>\n",
       "      <td>1</td>\n",
       "      <td>1</td>\n",
       "      <td>0</td>\n",
       "      <td>0</td>\n",
       "      <td>0.17</td>\n",
       "    </tr>\n",
       "    <tr>\n",
       "      <th>2</th>\n",
       "      <td>5396</td>\n",
       "      <td>https://www.airbnb.com/rooms/5396</td>\n",
       "      <td>20210410122610</td>\n",
       "      <td>2021-04-16</td>\n",
       "      <td>Explore the heart of old Paris</td>\n",
       "      <td>Cozy, well-appointed and graciously designed s...</td>\n",
       "      <td>You are within walking distance to the Louvre,...</td>\n",
       "      <td>https://a0.muscache.com/pictures/52413/f9bf76f...</td>\n",
       "      <td>7903</td>\n",
       "      <td>https://www.airbnb.com/users/show/7903</td>\n",
       "      <td>...</td>\n",
       "      <td>10.0</td>\n",
       "      <td>10.0</td>\n",
       "      <td>9.0</td>\n",
       "      <td>7510402838018</td>\n",
       "      <td>f</td>\n",
       "      <td>1</td>\n",
       "      <td>1</td>\n",
       "      <td>0</td>\n",
       "      <td>0</td>\n",
       "      <td>1.65</td>\n",
       "    </tr>\n",
       "    <tr>\n",
       "      <th>3</th>\n",
       "      <td>7397</td>\n",
       "      <td>https://www.airbnb.com/rooms/7397</td>\n",
       "      <td>20210410122610</td>\n",
       "      <td>2021-04-16</td>\n",
       "      <td>MARAIS - 2ROOMS APT - 2/4 PEOPLE</td>\n",
       "      <td>VERY CONVENIENT, WITH THE BEST LOCATION !&lt;br /...</td>\n",
       "      <td>NaN</td>\n",
       "      <td>https://a0.muscache.com/pictures/67928287/330b...</td>\n",
       "      <td>2626</td>\n",
       "      <td>https://www.airbnb.com/users/show/2626</td>\n",
       "      <td>...</td>\n",
       "      <td>10.0</td>\n",
       "      <td>10.0</td>\n",
       "      <td>10.0</td>\n",
       "      <td>7510400829623</td>\n",
       "      <td>f</td>\n",
       "      <td>1</td>\n",
       "      <td>1</td>\n",
       "      <td>0</td>\n",
       "      <td>0</td>\n",
       "      <td>2.23</td>\n",
       "    </tr>\n",
       "    <tr>\n",
       "      <th>4</th>\n",
       "      <td>7964</td>\n",
       "      <td>https://www.airbnb.com/rooms/7964</td>\n",
       "      <td>20210410122610</td>\n",
       "      <td>2021-04-13</td>\n",
       "      <td>Large &amp; sunny flat with balcony !</td>\n",
       "      <td>Very large &amp; nice apartment all for you! &lt;br /...</td>\n",
       "      <td>NaN</td>\n",
       "      <td>https://a0.muscache.com/pictures/4471349/6fb3d...</td>\n",
       "      <td>22155</td>\n",
       "      <td>https://www.airbnb.com/users/show/22155</td>\n",
       "      <td>...</td>\n",
       "      <td>10.0</td>\n",
       "      <td>10.0</td>\n",
       "      <td>10.0</td>\n",
       "      <td>7510903576564</td>\n",
       "      <td>f</td>\n",
       "      <td>1</td>\n",
       "      <td>1</td>\n",
       "      <td>0</td>\n",
       "      <td>0</td>\n",
       "      <td>0.05</td>\n",
       "    </tr>\n",
       "  </tbody>\n",
       "</table>\n",
       "<p>5 rows × 74 columns</p>\n",
       "</div>"
      ],
      "text/plain": [
       "     id                        listing_url       scrape_id last_scraped  \\\n",
       "0  2577  https://www.airbnb.com/rooms/2577  20210410122610   2021-04-14   \n",
       "1  3109  https://www.airbnb.com/rooms/3109  20210410122610   2021-04-13   \n",
       "2  5396  https://www.airbnb.com/rooms/5396  20210410122610   2021-04-16   \n",
       "3  7397  https://www.airbnb.com/rooms/7397  20210410122610   2021-04-16   \n",
       "4  7964  https://www.airbnb.com/rooms/7964  20210410122610   2021-04-13   \n",
       "\n",
       "                                name  \\\n",
       "0   Loft for 4 by Canal Saint Martin   \n",
       "1                       zen and calm   \n",
       "2     Explore the heart of old Paris   \n",
       "3   MARAIS - 2ROOMS APT - 2/4 PEOPLE   \n",
       "4  Large & sunny flat with balcony !   \n",
       "\n",
       "                                         description  \\\n",
       "0  100 m2 loft (1100 sq feet) with high ceiling, ...   \n",
       "1  <b>The space</b><br />I bedroom appartment in ...   \n",
       "2  Cozy, well-appointed and graciously designed s...   \n",
       "3  VERY CONVENIENT, WITH THE BEST LOCATION !<br /...   \n",
       "4  Very large & nice apartment all for you! <br /...   \n",
       "\n",
       "                               neighborhood_overview  \\\n",
       "0                                                NaN   \n",
       "1  Good restaurants<br />very close the Montparna...   \n",
       "2  You are within walking distance to the Louvre,...   \n",
       "3                                                NaN   \n",
       "4                                                NaN   \n",
       "\n",
       "                                         picture_url  host_id  \\\n",
       "0  https://a0.muscache.com/pictures/09da057c-0120...     2827   \n",
       "1  https://a0.muscache.com/pictures/baeae9e2-cd53...     3631   \n",
       "2  https://a0.muscache.com/pictures/52413/f9bf76f...     7903   \n",
       "3  https://a0.muscache.com/pictures/67928287/330b...     2626   \n",
       "4  https://a0.muscache.com/pictures/4471349/6fb3d...    22155   \n",
       "\n",
       "                                  host_url  ... review_scores_communication  \\\n",
       "0   https://www.airbnb.com/users/show/2827  ...                        10.0   \n",
       "1   https://www.airbnb.com/users/show/3631  ...                        10.0   \n",
       "2   https://www.airbnb.com/users/show/7903  ...                        10.0   \n",
       "3   https://www.airbnb.com/users/show/2626  ...                        10.0   \n",
       "4  https://www.airbnb.com/users/show/22155  ...                        10.0   \n",
       "\n",
       "  review_scores_location review_scores_value        license instant_bookable  \\\n",
       "0                   10.0                10.0            NaN                f   \n",
       "1                   10.0                10.0            NaN                f   \n",
       "2                   10.0                 9.0  7510402838018                f   \n",
       "3                   10.0                10.0  7510400829623                f   \n",
       "4                   10.0                10.0  7510903576564                f   \n",
       "\n",
       "  calculated_host_listings_count calculated_host_listings_count_entire_homes  \\\n",
       "0                              1                                           1   \n",
       "1                              1                                           1   \n",
       "2                              1                                           1   \n",
       "3                              1                                           1   \n",
       "4                              1                                           1   \n",
       "\n",
       "  calculated_host_listings_count_private_rooms  \\\n",
       "0                                            0   \n",
       "1                                            0   \n",
       "2                                            0   \n",
       "3                                            0   \n",
       "4                                            0   \n",
       "\n",
       "  calculated_host_listings_count_shared_rooms reviews_per_month  \n",
       "0                                           0              0.04  \n",
       "1                                           0              0.17  \n",
       "2                                           0              1.65  \n",
       "3                                           0              2.23  \n",
       "4                                           0              0.05  \n",
       "\n",
       "[5 rows x 74 columns]"
      ]
     },
     "execution_count": 6,
     "metadata": {},
     "output_type": "execute_result"
    }
   ],
   "source": [
    "df.head()"
   ]
  },
  {
   "cell_type": "code",
   "execution_count": 7,
   "id": "b0347cea",
   "metadata": {
    "colab": {
     "base_uri": "https://localhost:8080/"
    },
    "id": "b0347cea",
    "outputId": "99a82f53-e7d4-400b-bba8-ac3ff8ec0864"
   },
   "outputs": [
    {
     "data": {
      "text/plain": [
       "(63090, 74)"
      ]
     },
     "execution_count": 7,
     "metadata": {},
     "output_type": "execute_result"
    }
   ],
   "source": [
    "df.shape"
   ]
  },
  {
   "cell_type": "markdown",
   "id": "27dcee17",
   "metadata": {
    "id": "27dcee17"
   },
   "source": [
    "* comme on peut le voir, il y a:<br>\n",
    "63090 lignes <br>\n",
    "74 colonnes"
   ]
  },
  {
   "cell_type": "code",
   "execution_count": 8,
   "id": "032cfc34",
   "metadata": {
    "colab": {
     "base_uri": "https://localhost:8080/"
    },
    "id": "032cfc34",
    "outputId": "e62112e8-b915-421d-c379-32a203db8a71"
   },
   "outputs": [
    {
     "name": "stdout",
     "output_type": "stream",
     "text": [
      "<class 'pandas.core.frame.DataFrame'>\n",
      "RangeIndex: 63090 entries, 0 to 63089\n",
      "Data columns (total 74 columns):\n",
      " #   Column                                        Non-Null Count  Dtype  \n",
      "---  ------                                        --------------  -----  \n",
      " 0   id                                            63090 non-null  int64  \n",
      " 1   listing_url                                   63090 non-null  object \n",
      " 2   scrape_id                                     63090 non-null  int64  \n",
      " 3   last_scraped                                  63090 non-null  object \n",
      " 4   name                                          63028 non-null  object \n",
      " 5   description                                   61681 non-null  object \n",
      " 6   neighborhood_overview                         37484 non-null  object \n",
      " 7   picture_url                                   63089 non-null  object \n",
      " 8   host_id                                       63090 non-null  int64  \n",
      " 9   host_url                                      63090 non-null  object \n",
      " 10  host_name                                     61336 non-null  object \n",
      " 11  host_since                                    61336 non-null  object \n",
      " 12  host_location                                 61207 non-null  object \n",
      " 13  host_about                                    30791 non-null  object \n",
      " 14  host_response_time                            21881 non-null  object \n",
      " 15  host_response_rate                            21881 non-null  object \n",
      " 16  host_acceptance_rate                          26064 non-null  object \n",
      " 17  host_is_superhost                             61336 non-null  object \n",
      " 18  host_thumbnail_url                            61336 non-null  object \n",
      " 19  host_picture_url                              61336 non-null  object \n",
      " 20  host_neighbourhood                            47048 non-null  object \n",
      " 21  host_listings_count                           61336 non-null  float64\n",
      " 22  host_total_listings_count                     61336 non-null  float64\n",
      " 23  host_verifications                            63090 non-null  object \n",
      " 24  host_has_profile_pic                          61336 non-null  object \n",
      " 25  host_identity_verified                        61336 non-null  object \n",
      " 26  neighbourhood                                 37484 non-null  object \n",
      " 27  neighbourhood_cleansed                        63090 non-null  object \n",
      " 28  neighbourhood_group_cleansed                  0 non-null      float64\n",
      " 29  latitude                                      63090 non-null  float64\n",
      " 30  longitude                                     63090 non-null  float64\n",
      " 31  property_type                                 63090 non-null  object \n",
      " 32  room_type                                     63090 non-null  object \n",
      " 33  accommodates                                  63090 non-null  int64  \n",
      " 34  bathrooms                                     0 non-null      float64\n",
      " 35  bathrooms_text                                62964 non-null  object \n",
      " 36  bedrooms                                      50067 non-null  float64\n",
      " 37  beds                                          62460 non-null  float64\n",
      " 38  amenities                                     63090 non-null  object \n",
      " 39  price                                         63090 non-null  object \n",
      " 40  minimum_nights                                63090 non-null  int64  \n",
      " 41  maximum_nights                                63090 non-null  int64  \n",
      " 42  minimum_minimum_nights                        63077 non-null  float64\n",
      " 43  maximum_minimum_nights                        63077 non-null  float64\n",
      " 44  minimum_maximum_nights                        63077 non-null  float64\n",
      " 45  maximum_maximum_nights                        63077 non-null  float64\n",
      " 46  minimum_nights_avg_ntm                        63077 non-null  float64\n",
      " 47  maximum_nights_avg_ntm                        63077 non-null  float64\n",
      " 48  calendar_updated                              0 non-null      float64\n",
      " 49  has_availability                              63090 non-null  object \n",
      " 50  availability_30                               63090 non-null  int64  \n",
      " 51  availability_60                               63090 non-null  int64  \n",
      " 52  availability_90                               63090 non-null  int64  \n",
      " 53  availability_365                              63090 non-null  int64  \n",
      " 54  calendar_last_scraped                         63090 non-null  object \n",
      " 55  number_of_reviews                             63090 non-null  int64  \n",
      " 56  number_of_reviews_ltm                         63090 non-null  int64  \n",
      " 57  number_of_reviews_l30d                        63090 non-null  int64  \n",
      " 58  first_review                                  47784 non-null  object \n",
      " 59  last_review                                   47784 non-null  object \n",
      " 60  review_scores_rating                          46641 non-null  float64\n",
      " 61  review_scores_accuracy                        46592 non-null  float64\n",
      " 62  review_scores_cleanliness                     46601 non-null  float64\n",
      " 63  review_scores_checkin                         46576 non-null  float64\n",
      " 64  review_scores_communication                   46595 non-null  float64\n",
      " 65  review_scores_location                        46575 non-null  float64\n",
      " 66  review_scores_value                           46577 non-null  float64\n",
      " 67  license                                       21271 non-null  object \n",
      " 68  instant_bookable                              63090 non-null  object \n",
      " 69  calculated_host_listings_count                63090 non-null  int64  \n",
      " 70  calculated_host_listings_count_entire_homes   63090 non-null  int64  \n",
      " 71  calculated_host_listings_count_private_rooms  63090 non-null  int64  \n",
      " 72  calculated_host_listings_count_shared_rooms   63090 non-null  int64  \n",
      " 73  reviews_per_month                             47784 non-null  float64\n",
      "dtypes: float64(23), int64(17), object(34)\n",
      "memory usage: 35.6+ MB\n"
     ]
    }
   ],
   "source": [
    "### pour mener à bien notre analyse, verifions quel type de donner avons-nous en face\n",
    "df.info()"
   ]
  },
  {
   "cell_type": "code",
   "execution_count": 9,
   "id": "d92a8d6c",
   "metadata": {
    "id": "d92a8d6c"
   },
   "outputs": [],
   "source": [
    "### maitenant que savons cela, verirfions s'il ya des donnes dupliqueés et manquantes et les ecarter\n",
    "df.duplicated().sum()\n",
    "df.drop_duplicates(inplace=True)"
   ]
  },
  {
   "cell_type": "code",
   "execution_count": 10,
   "id": "8bfb62e3",
   "metadata": {
    "colab": {
     "base_uri": "https://localhost:8080/"
    },
    "id": "8bfb62e3",
    "outputId": "a6d81582-384b-429b-c4b5-186247f9a187"
   },
   "outputs": [
    {
     "data": {
      "text/plain": [
       "(63090, 74)"
      ]
     },
     "execution_count": 10,
     "metadata": {},
     "output_type": "execute_result"
    }
   ],
   "source": [
    "df.shape ### pas de données dupliquées"
   ]
  },
  {
   "cell_type": "code",
   "execution_count": 11,
   "id": "ee7350f9",
   "metadata": {
    "colab": {
     "base_uri": "https://localhost:8080/",
     "height": 439
    },
    "id": "ee7350f9",
    "outputId": "0689cf15-f36f-450b-d307-cfdb5691d863"
   },
   "outputs": [
    {
     "data": {
      "text/html": [
       "<div>\n",
       "<style scoped>\n",
       "    .dataframe tbody tr th:only-of-type {\n",
       "        vertical-align: middle;\n",
       "    }\n",
       "\n",
       "    .dataframe tbody tr th {\n",
       "        vertical-align: top;\n",
       "    }\n",
       "\n",
       "    .dataframe thead th {\n",
       "        text-align: right;\n",
       "    }\n",
       "</style>\n",
       "<table border=\"1\" class=\"dataframe\">\n",
       "  <thead>\n",
       "    <tr style=\"text-align: right;\">\n",
       "      <th></th>\n",
       "      <th>id</th>\n",
       "      <th>listing_url</th>\n",
       "      <th>scrape_id</th>\n",
       "      <th>last_scraped</th>\n",
       "      <th>name</th>\n",
       "      <th>description</th>\n",
       "      <th>neighborhood_overview</th>\n",
       "      <th>picture_url</th>\n",
       "      <th>host_id</th>\n",
       "      <th>host_url</th>\n",
       "      <th>...</th>\n",
       "      <th>review_scores_communication</th>\n",
       "      <th>review_scores_location</th>\n",
       "      <th>review_scores_value</th>\n",
       "      <th>license</th>\n",
       "      <th>instant_bookable</th>\n",
       "      <th>calculated_host_listings_count</th>\n",
       "      <th>calculated_host_listings_count_entire_homes</th>\n",
       "      <th>calculated_host_listings_count_private_rooms</th>\n",
       "      <th>calculated_host_listings_count_shared_rooms</th>\n",
       "      <th>reviews_per_month</th>\n",
       "    </tr>\n",
       "  </thead>\n",
       "  <tbody>\n",
       "    <tr>\n",
       "      <th>0</th>\n",
       "      <td>False</td>\n",
       "      <td>False</td>\n",
       "      <td>False</td>\n",
       "      <td>False</td>\n",
       "      <td>False</td>\n",
       "      <td>False</td>\n",
       "      <td>True</td>\n",
       "      <td>False</td>\n",
       "      <td>False</td>\n",
       "      <td>False</td>\n",
       "      <td>...</td>\n",
       "      <td>False</td>\n",
       "      <td>False</td>\n",
       "      <td>False</td>\n",
       "      <td>True</td>\n",
       "      <td>False</td>\n",
       "      <td>False</td>\n",
       "      <td>False</td>\n",
       "      <td>False</td>\n",
       "      <td>False</td>\n",
       "      <td>False</td>\n",
       "    </tr>\n",
       "    <tr>\n",
       "      <th>1</th>\n",
       "      <td>False</td>\n",
       "      <td>False</td>\n",
       "      <td>False</td>\n",
       "      <td>False</td>\n",
       "      <td>False</td>\n",
       "      <td>False</td>\n",
       "      <td>False</td>\n",
       "      <td>False</td>\n",
       "      <td>False</td>\n",
       "      <td>False</td>\n",
       "      <td>...</td>\n",
       "      <td>False</td>\n",
       "      <td>False</td>\n",
       "      <td>False</td>\n",
       "      <td>True</td>\n",
       "      <td>False</td>\n",
       "      <td>False</td>\n",
       "      <td>False</td>\n",
       "      <td>False</td>\n",
       "      <td>False</td>\n",
       "      <td>False</td>\n",
       "    </tr>\n",
       "    <tr>\n",
       "      <th>2</th>\n",
       "      <td>False</td>\n",
       "      <td>False</td>\n",
       "      <td>False</td>\n",
       "      <td>False</td>\n",
       "      <td>False</td>\n",
       "      <td>False</td>\n",
       "      <td>False</td>\n",
       "      <td>False</td>\n",
       "      <td>False</td>\n",
       "      <td>False</td>\n",
       "      <td>...</td>\n",
       "      <td>False</td>\n",
       "      <td>False</td>\n",
       "      <td>False</td>\n",
       "      <td>False</td>\n",
       "      <td>False</td>\n",
       "      <td>False</td>\n",
       "      <td>False</td>\n",
       "      <td>False</td>\n",
       "      <td>False</td>\n",
       "      <td>False</td>\n",
       "    </tr>\n",
       "    <tr>\n",
       "      <th>3</th>\n",
       "      <td>False</td>\n",
       "      <td>False</td>\n",
       "      <td>False</td>\n",
       "      <td>False</td>\n",
       "      <td>False</td>\n",
       "      <td>False</td>\n",
       "      <td>True</td>\n",
       "      <td>False</td>\n",
       "      <td>False</td>\n",
       "      <td>False</td>\n",
       "      <td>...</td>\n",
       "      <td>False</td>\n",
       "      <td>False</td>\n",
       "      <td>False</td>\n",
       "      <td>False</td>\n",
       "      <td>False</td>\n",
       "      <td>False</td>\n",
       "      <td>False</td>\n",
       "      <td>False</td>\n",
       "      <td>False</td>\n",
       "      <td>False</td>\n",
       "    </tr>\n",
       "    <tr>\n",
       "      <th>4</th>\n",
       "      <td>False</td>\n",
       "      <td>False</td>\n",
       "      <td>False</td>\n",
       "      <td>False</td>\n",
       "      <td>False</td>\n",
       "      <td>False</td>\n",
       "      <td>True</td>\n",
       "      <td>False</td>\n",
       "      <td>False</td>\n",
       "      <td>False</td>\n",
       "      <td>...</td>\n",
       "      <td>False</td>\n",
       "      <td>False</td>\n",
       "      <td>False</td>\n",
       "      <td>False</td>\n",
       "      <td>False</td>\n",
       "      <td>False</td>\n",
       "      <td>False</td>\n",
       "      <td>False</td>\n",
       "      <td>False</td>\n",
       "      <td>False</td>\n",
       "    </tr>\n",
       "    <tr>\n",
       "      <th>...</th>\n",
       "      <td>...</td>\n",
       "      <td>...</td>\n",
       "      <td>...</td>\n",
       "      <td>...</td>\n",
       "      <td>...</td>\n",
       "      <td>...</td>\n",
       "      <td>...</td>\n",
       "      <td>...</td>\n",
       "      <td>...</td>\n",
       "      <td>...</td>\n",
       "      <td>...</td>\n",
       "      <td>...</td>\n",
       "      <td>...</td>\n",
       "      <td>...</td>\n",
       "      <td>...</td>\n",
       "      <td>...</td>\n",
       "      <td>...</td>\n",
       "      <td>...</td>\n",
       "      <td>...</td>\n",
       "      <td>...</td>\n",
       "      <td>...</td>\n",
       "    </tr>\n",
       "    <tr>\n",
       "      <th>63085</th>\n",
       "      <td>False</td>\n",
       "      <td>False</td>\n",
       "      <td>False</td>\n",
       "      <td>False</td>\n",
       "      <td>False</td>\n",
       "      <td>False</td>\n",
       "      <td>False</td>\n",
       "      <td>False</td>\n",
       "      <td>False</td>\n",
       "      <td>False</td>\n",
       "      <td>...</td>\n",
       "      <td>True</td>\n",
       "      <td>True</td>\n",
       "      <td>True</td>\n",
       "      <td>False</td>\n",
       "      <td>False</td>\n",
       "      <td>False</td>\n",
       "      <td>False</td>\n",
       "      <td>False</td>\n",
       "      <td>False</td>\n",
       "      <td>True</td>\n",
       "    </tr>\n",
       "    <tr>\n",
       "      <th>63086</th>\n",
       "      <td>False</td>\n",
       "      <td>False</td>\n",
       "      <td>False</td>\n",
       "      <td>False</td>\n",
       "      <td>False</td>\n",
       "      <td>False</td>\n",
       "      <td>True</td>\n",
       "      <td>False</td>\n",
       "      <td>False</td>\n",
       "      <td>False</td>\n",
       "      <td>...</td>\n",
       "      <td>True</td>\n",
       "      <td>True</td>\n",
       "      <td>True</td>\n",
       "      <td>False</td>\n",
       "      <td>False</td>\n",
       "      <td>False</td>\n",
       "      <td>False</td>\n",
       "      <td>False</td>\n",
       "      <td>False</td>\n",
       "      <td>True</td>\n",
       "    </tr>\n",
       "    <tr>\n",
       "      <th>63087</th>\n",
       "      <td>False</td>\n",
       "      <td>False</td>\n",
       "      <td>False</td>\n",
       "      <td>False</td>\n",
       "      <td>False</td>\n",
       "      <td>False</td>\n",
       "      <td>True</td>\n",
       "      <td>False</td>\n",
       "      <td>False</td>\n",
       "      <td>False</td>\n",
       "      <td>...</td>\n",
       "      <td>True</td>\n",
       "      <td>True</td>\n",
       "      <td>True</td>\n",
       "      <td>False</td>\n",
       "      <td>False</td>\n",
       "      <td>False</td>\n",
       "      <td>False</td>\n",
       "      <td>False</td>\n",
       "      <td>False</td>\n",
       "      <td>True</td>\n",
       "    </tr>\n",
       "    <tr>\n",
       "      <th>63088</th>\n",
       "      <td>False</td>\n",
       "      <td>False</td>\n",
       "      <td>False</td>\n",
       "      <td>False</td>\n",
       "      <td>False</td>\n",
       "      <td>False</td>\n",
       "      <td>True</td>\n",
       "      <td>False</td>\n",
       "      <td>False</td>\n",
       "      <td>False</td>\n",
       "      <td>...</td>\n",
       "      <td>True</td>\n",
       "      <td>True</td>\n",
       "      <td>True</td>\n",
       "      <td>True</td>\n",
       "      <td>False</td>\n",
       "      <td>False</td>\n",
       "      <td>False</td>\n",
       "      <td>False</td>\n",
       "      <td>False</td>\n",
       "      <td>True</td>\n",
       "    </tr>\n",
       "    <tr>\n",
       "      <th>63089</th>\n",
       "      <td>False</td>\n",
       "      <td>False</td>\n",
       "      <td>False</td>\n",
       "      <td>False</td>\n",
       "      <td>False</td>\n",
       "      <td>False</td>\n",
       "      <td>True</td>\n",
       "      <td>False</td>\n",
       "      <td>False</td>\n",
       "      <td>False</td>\n",
       "      <td>...</td>\n",
       "      <td>True</td>\n",
       "      <td>True</td>\n",
       "      <td>True</td>\n",
       "      <td>False</td>\n",
       "      <td>False</td>\n",
       "      <td>False</td>\n",
       "      <td>False</td>\n",
       "      <td>False</td>\n",
       "      <td>False</td>\n",
       "      <td>True</td>\n",
       "    </tr>\n",
       "  </tbody>\n",
       "</table>\n",
       "<p>63090 rows × 74 columns</p>\n",
       "</div>"
      ],
      "text/plain": [
       "          id  listing_url  scrape_id  last_scraped   name  description  \\\n",
       "0      False        False      False         False  False        False   \n",
       "1      False        False      False         False  False        False   \n",
       "2      False        False      False         False  False        False   \n",
       "3      False        False      False         False  False        False   \n",
       "4      False        False      False         False  False        False   \n",
       "...      ...          ...        ...           ...    ...          ...   \n",
       "63085  False        False      False         False  False        False   \n",
       "63086  False        False      False         False  False        False   \n",
       "63087  False        False      False         False  False        False   \n",
       "63088  False        False      False         False  False        False   \n",
       "63089  False        False      False         False  False        False   \n",
       "\n",
       "       neighborhood_overview  picture_url  host_id  host_url  ...  \\\n",
       "0                       True        False    False     False  ...   \n",
       "1                      False        False    False     False  ...   \n",
       "2                      False        False    False     False  ...   \n",
       "3                       True        False    False     False  ...   \n",
       "4                       True        False    False     False  ...   \n",
       "...                      ...          ...      ...       ...  ...   \n",
       "63085                  False        False    False     False  ...   \n",
       "63086                   True        False    False     False  ...   \n",
       "63087                   True        False    False     False  ...   \n",
       "63088                   True        False    False     False  ...   \n",
       "63089                   True        False    False     False  ...   \n",
       "\n",
       "       review_scores_communication  review_scores_location  \\\n",
       "0                            False                   False   \n",
       "1                            False                   False   \n",
       "2                            False                   False   \n",
       "3                            False                   False   \n",
       "4                            False                   False   \n",
       "...                            ...                     ...   \n",
       "63085                         True                    True   \n",
       "63086                         True                    True   \n",
       "63087                         True                    True   \n",
       "63088                         True                    True   \n",
       "63089                         True                    True   \n",
       "\n",
       "       review_scores_value  license  instant_bookable  \\\n",
       "0                    False     True             False   \n",
       "1                    False     True             False   \n",
       "2                    False    False             False   \n",
       "3                    False    False             False   \n",
       "4                    False    False             False   \n",
       "...                    ...      ...               ...   \n",
       "63085                 True    False             False   \n",
       "63086                 True    False             False   \n",
       "63087                 True    False             False   \n",
       "63088                 True     True             False   \n",
       "63089                 True    False             False   \n",
       "\n",
       "       calculated_host_listings_count  \\\n",
       "0                               False   \n",
       "1                               False   \n",
       "2                               False   \n",
       "3                               False   \n",
       "4                               False   \n",
       "...                               ...   \n",
       "63085                           False   \n",
       "63086                           False   \n",
       "63087                           False   \n",
       "63088                           False   \n",
       "63089                           False   \n",
       "\n",
       "       calculated_host_listings_count_entire_homes  \\\n",
       "0                                            False   \n",
       "1                                            False   \n",
       "2                                            False   \n",
       "3                                            False   \n",
       "4                                            False   \n",
       "...                                            ...   \n",
       "63085                                        False   \n",
       "63086                                        False   \n",
       "63087                                        False   \n",
       "63088                                        False   \n",
       "63089                                        False   \n",
       "\n",
       "       calculated_host_listings_count_private_rooms  \\\n",
       "0                                             False   \n",
       "1                                             False   \n",
       "2                                             False   \n",
       "3                                             False   \n",
       "4                                             False   \n",
       "...                                             ...   \n",
       "63085                                         False   \n",
       "63086                                         False   \n",
       "63087                                         False   \n",
       "63088                                         False   \n",
       "63089                                         False   \n",
       "\n",
       "       calculated_host_listings_count_shared_rooms  reviews_per_month  \n",
       "0                                            False              False  \n",
       "1                                            False              False  \n",
       "2                                            False              False  \n",
       "3                                            False              False  \n",
       "4                                            False              False  \n",
       "...                                            ...                ...  \n",
       "63085                                        False               True  \n",
       "63086                                        False               True  \n",
       "63087                                        False               True  \n",
       "63088                                        False               True  \n",
       "63089                                        False               True  \n",
       "\n",
       "[63090 rows x 74 columns]"
      ]
     },
     "execution_count": 11,
     "metadata": {},
     "output_type": "execute_result"
    }
   ],
   "source": [
    "df.isnull()"
   ]
  },
  {
   "cell_type": "code",
   "execution_count": 12,
   "id": "0998a4a5",
   "metadata": {
    "colab": {
     "base_uri": "https://localhost:8080/"
    },
    "id": "0998a4a5",
    "outputId": "1e7e6fdb-3359-409f-c30f-d2a53c08be77",
    "scrolled": true
   },
   "outputs": [
    {
     "data": {
      "text/plain": [
       "id                                                  0\n",
       "listing_url                                         0\n",
       "scrape_id                                           0\n",
       "last_scraped                                        0\n",
       "name                                               62\n",
       "                                                ...  \n",
       "calculated_host_listings_count                      0\n",
       "calculated_host_listings_count_entire_homes         0\n",
       "calculated_host_listings_count_private_rooms        0\n",
       "calculated_host_listings_count_shared_rooms         0\n",
       "reviews_per_month                               15306\n",
       "Length: 74, dtype: int64"
      ]
     },
     "execution_count": 12,
     "metadata": {},
     "output_type": "execute_result"
    }
   ],
   "source": [
    "df.isnull().sum()"
   ]
  },
  {
   "cell_type": "markdown",
   "id": "NRsPSKl9GqCg",
   "metadata": {
    "id": "NRsPSKl9GqCg"
   },
   "source": [
    "***Nettoyons les données***\n",
    "- Nous gardons les variables que ont plus d'impact sur le niveau du prix"
   ]
  },
  {
   "cell_type": "code",
   "execution_count": 13,
   "id": "161fddc8",
   "metadata": {
    "colab": {
     "base_uri": "https://localhost:8080/"
    },
    "id": "161fddc8",
    "outputId": "0d7c3be5-7021-4825-f4f4-8f3a7965fee0"
   },
   "outputs": [
    {
     "data": {
      "text/plain": [
       "Index(['id', 'listing_url', 'scrape_id', 'last_scraped', 'name', 'description',\n",
       "       'neighborhood_overview', 'picture_url', 'host_id', 'host_url',\n",
       "       'host_name', 'host_since', 'host_location', 'host_about',\n",
       "       'host_response_time', 'host_response_rate', 'host_acceptance_rate',\n",
       "       'host_is_superhost', 'host_thumbnail_url', 'host_picture_url',\n",
       "       'host_neighbourhood', 'host_listings_count',\n",
       "       'host_total_listings_count', 'host_verifications',\n",
       "       'host_has_profile_pic', 'host_identity_verified', 'neighbourhood',\n",
       "       'neighbourhood_cleansed', 'neighbourhood_group_cleansed', 'latitude',\n",
       "       'longitude', 'property_type', 'room_type', 'accommodates', 'bathrooms',\n",
       "       'bathrooms_text', 'bedrooms', 'beds', 'amenities', 'price',\n",
       "       'minimum_nights', 'maximum_nights', 'minimum_minimum_nights',\n",
       "       'maximum_minimum_nights', 'minimum_maximum_nights',\n",
       "       'maximum_maximum_nights', 'minimum_nights_avg_ntm',\n",
       "       'maximum_nights_avg_ntm', 'calendar_updated', 'has_availability',\n",
       "       'availability_30', 'availability_60', 'availability_90',\n",
       "       'availability_365', 'calendar_last_scraped', 'number_of_reviews',\n",
       "       'number_of_reviews_ltm', 'number_of_reviews_l30d', 'first_review',\n",
       "       'last_review', 'review_scores_rating', 'review_scores_accuracy',\n",
       "       'review_scores_cleanliness', 'review_scores_checkin',\n",
       "       'review_scores_communication', 'review_scores_location',\n",
       "       'review_scores_value', 'license', 'instant_bookable',\n",
       "       'calculated_host_listings_count',\n",
       "       'calculated_host_listings_count_entire_homes',\n",
       "       'calculated_host_listings_count_private_rooms',\n",
       "       'calculated_host_listings_count_shared_rooms', 'reviews_per_month'],\n",
       "      dtype='object')"
      ]
     },
     "execution_count": 13,
     "metadata": {},
     "output_type": "execute_result"
    }
   ],
   "source": [
    "df.columns"
   ]
  },
  {
   "cell_type": "code",
   "execution_count": 23,
   "id": "_kCszwVzK90P",
   "metadata": {
    "colab": {
     "base_uri": "https://localhost:8080/"
    },
    "id": "_kCszwVzK90P",
    "outputId": "b807fb16-4045-4931-a215-42d685467a4e"
   },
   "outputs": [
    {
     "data": {
      "text/plain": [
       "Index(['id', 'scrape_id', 'last_scraped', 'name', 'host_id', 'host_url',\n",
       "       'host_name', 'host_since', 'host_about', 'host_thumbnail_url',\n",
       "       'host_picture_url', 'host_listings_count', 'host_has_profile_pic',\n",
       "       'neighbourhood', 'latitude', 'longitude', 'property_type', 'room_type',\n",
       "       'accommodates', 'bathrooms', 'bedrooms', 'amenities', 'price',\n",
       "       'minimum_nights', 'maximum_nights', 'has_availability',\n",
       "       'availability_30', 'availability_60', 'availability_90',\n",
       "       'calendar_last_scraped', 'number_of_reviews',\n",
       "       'calculated_host_listings_count',\n",
       "       'calculated_host_listings_count_entire_homes',\n",
       "       'calculated_host_listings_count_private_rooms',\n",
       "       'calculated_host_listings_count_shared_rooms', 'reviews_per_month'],\n",
       "      dtype='object')"
      ]
     },
     "execution_count": 23,
     "metadata": {
      "tags": []
     },
     "output_type": "execute_result"
    }
   ],
   "source": [
    "df.columns"
   ]
  },
  {
   "cell_type": "code",
   "execution_count": 24,
   "id": "59f65e46",
   "metadata": {
    "id": "59f65e46"
   },
   "outputs": [],
   "source": [
    "### supprimer les conlones inutiles à notre analyse \n",
    "df.drop(['id', 'scrape_id', 'last_scraped', 'name', 'host_id', 'host_url',\n",
    "       'host_name', 'host_since', 'host_about', 'host_thumbnail_url',\n",
    "       'host_picture_url', 'host_listings_count', 'host_has_profile_pic', 'has_availability',\n",
    "       'calendar_last_scraped', 'number_of_reviews',\n",
    "       'calculated_host_listings_count',\n",
    "       'calculated_host_listings_count_entire_homes',\n",
    "       'calculated_host_listings_count_private_rooms',\n",
    "       'calculated_host_listings_count_shared_rooms',\n",
    "       ], axis=1, inplace=True)"
   ]
  },
  {
   "cell_type": "code",
   "execution_count": 25,
   "id": "61ddde09",
   "metadata": {
    "colab": {
     "base_uri": "https://localhost:8080/"
    },
    "id": "61ddde09",
    "outputId": "64a58012-bb8a-4129-e597-236203c38eb9"
   },
   "outputs": [
    {
     "name": "stdout",
     "output_type": "stream",
     "text": [
      "<class 'pandas.core.frame.DataFrame'>\n",
      "Int64Index: 63090 entries, 0 to 63089\n",
      "Data columns (total 16 columns):\n",
      " #   Column             Non-Null Count  Dtype  \n",
      "---  ------             --------------  -----  \n",
      " 0   neighbourhood      37484 non-null  object \n",
      " 1   latitude           63090 non-null  float64\n",
      " 2   longitude          63090 non-null  float64\n",
      " 3   property_type      63090 non-null  object \n",
      " 4   room_type          63090 non-null  object \n",
      " 5   accommodates       63090 non-null  int64  \n",
      " 6   bathrooms          0 non-null      float64\n",
      " 7   bedrooms           50067 non-null  float64\n",
      " 8   amenities          63090 non-null  object \n",
      " 9   price              63090 non-null  object \n",
      " 10  minimum_nights     63090 non-null  int64  \n",
      " 11  maximum_nights     63090 non-null  int64  \n",
      " 12  availability_30    63090 non-null  int64  \n",
      " 13  availability_60    63090 non-null  int64  \n",
      " 14  availability_90    63090 non-null  int64  \n",
      " 15  reviews_per_month  47784 non-null  float64\n",
      "dtypes: float64(5), int64(6), object(5)\n",
      "memory usage: 8.2+ MB\n"
     ]
    }
   ],
   "source": [
    "df.info()"
   ]
  },
  {
   "cell_type": "code",
   "execution_count": 26,
   "id": "43286124",
   "metadata": {
    "colab": {
     "base_uri": "https://localhost:8080/",
     "height": 547
    },
    "id": "43286124",
    "outputId": "3472cd73-3c82-4196-e529-132e5273de2e"
   },
   "outputs": [
    {
     "data": {
      "text/html": [
       "<div>\n",
       "<style scoped>\n",
       "    .dataframe tbody tr th:only-of-type {\n",
       "        vertical-align: middle;\n",
       "    }\n",
       "\n",
       "    .dataframe tbody tr th {\n",
       "        vertical-align: top;\n",
       "    }\n",
       "\n",
       "    .dataframe thead th {\n",
       "        text-align: right;\n",
       "    }\n",
       "</style>\n",
       "<table border=\"1\" class=\"dataframe\">\n",
       "  <thead>\n",
       "    <tr style=\"text-align: right;\">\n",
       "      <th></th>\n",
       "      <th>neighbourhood</th>\n",
       "      <th>latitude</th>\n",
       "      <th>longitude</th>\n",
       "      <th>property_type</th>\n",
       "      <th>room_type</th>\n",
       "      <th>accommodates</th>\n",
       "      <th>bathrooms</th>\n",
       "      <th>bedrooms</th>\n",
       "      <th>amenities</th>\n",
       "      <th>price</th>\n",
       "      <th>minimum_nights</th>\n",
       "      <th>maximum_nights</th>\n",
       "      <th>availability_30</th>\n",
       "      <th>availability_60</th>\n",
       "      <th>availability_90</th>\n",
       "      <th>reviews_per_month</th>\n",
       "    </tr>\n",
       "  </thead>\n",
       "  <tbody>\n",
       "    <tr>\n",
       "      <th>0</th>\n",
       "      <td>NaN</td>\n",
       "      <td>48.86957</td>\n",
       "      <td>2.36127</td>\n",
       "      <td>Entire loft</td>\n",
       "      <td>Entire home/apt</td>\n",
       "      <td>4</td>\n",
       "      <td>NaN</td>\n",
       "      <td>2.0</td>\n",
       "      <td>[\"Essentials\", \"Kitchen\", \"Heating\", \"Host gre...</td>\n",
       "      <td>$125.00</td>\n",
       "      <td>3</td>\n",
       "      <td>1125</td>\n",
       "      <td>0</td>\n",
       "      <td>0</td>\n",
       "      <td>12</td>\n",
       "      <td>0.04</td>\n",
       "    </tr>\n",
       "    <tr>\n",
       "      <th>1</th>\n",
       "      <td>Paris, Île-de-France, France</td>\n",
       "      <td>48.83191</td>\n",
       "      <td>2.31870</td>\n",
       "      <td>Entire apartment</td>\n",
       "      <td>Entire home/apt</td>\n",
       "      <td>2</td>\n",
       "      <td>NaN</td>\n",
       "      <td>NaN</td>\n",
       "      <td>[\"Smoke alarm\", \"Dishes and silverware\", \"Hair...</td>\n",
       "      <td>$60.00</td>\n",
       "      <td>2</td>\n",
       "      <td>30</td>\n",
       "      <td>30</td>\n",
       "      <td>60</td>\n",
       "      <td>90</td>\n",
       "      <td>0.17</td>\n",
       "    </tr>\n",
       "    <tr>\n",
       "      <th>2</th>\n",
       "      <td>Paris, Ile-de-France, France</td>\n",
       "      <td>48.85247</td>\n",
       "      <td>2.35835</td>\n",
       "      <td>Entire apartment</td>\n",
       "      <td>Entire home/apt</td>\n",
       "      <td>2</td>\n",
       "      <td>NaN</td>\n",
       "      <td>NaN</td>\n",
       "      <td>[\"Essentials\", \"TV with standard cable\", \"Dish...</td>\n",
       "      <td>$47.00</td>\n",
       "      <td>1</td>\n",
       "      <td>1125</td>\n",
       "      <td>18</td>\n",
       "      <td>47</td>\n",
       "      <td>58</td>\n",
       "      <td>1.65</td>\n",
       "    </tr>\n",
       "    <tr>\n",
       "      <th>3</th>\n",
       "      <td>NaN</td>\n",
       "      <td>48.85909</td>\n",
       "      <td>2.35315</td>\n",
       "      <td>Entire apartment</td>\n",
       "      <td>Entire home/apt</td>\n",
       "      <td>4</td>\n",
       "      <td>NaN</td>\n",
       "      <td>2.0</td>\n",
       "      <td>[\"Essentials\", \"TV with standard cable\", \"Dish...</td>\n",
       "      <td>$90.00</td>\n",
       "      <td>10</td>\n",
       "      <td>130</td>\n",
       "      <td>13</td>\n",
       "      <td>39</td>\n",
       "      <td>64</td>\n",
       "      <td>2.23</td>\n",
       "    </tr>\n",
       "    <tr>\n",
       "      <th>4</th>\n",
       "      <td>NaN</td>\n",
       "      <td>48.87417</td>\n",
       "      <td>2.34245</td>\n",
       "      <td>Entire apartment</td>\n",
       "      <td>Entire home/apt</td>\n",
       "      <td>2</td>\n",
       "      <td>NaN</td>\n",
       "      <td>1.0</td>\n",
       "      <td>[\"Essentials\", \"TV with standard cable\", \"Kitc...</td>\n",
       "      <td>$130.00</td>\n",
       "      <td>6</td>\n",
       "      <td>365</td>\n",
       "      <td>30</td>\n",
       "      <td>60</td>\n",
       "      <td>90</td>\n",
       "      <td>0.05</td>\n",
       "    </tr>\n",
       "  </tbody>\n",
       "</table>\n",
       "</div>"
      ],
      "text/plain": [
       "                  neighbourhood  latitude  ...  availability_90 reviews_per_month\n",
       "0                           NaN  48.86957  ...               12              0.04\n",
       "1  Paris, Île-de-France, France  48.83191  ...               90              0.17\n",
       "2  Paris, Ile-de-France, France  48.85247  ...               58              1.65\n",
       "3                           NaN  48.85909  ...               64              2.23\n",
       "4                           NaN  48.87417  ...               90              0.05\n",
       "\n",
       "[5 rows x 16 columns]"
      ]
     },
     "execution_count": 26,
     "metadata": {
      "tags": []
     },
     "output_type": "execute_result"
    }
   ],
   "source": [
    "df.head()"
   ]
  },
  {
   "cell_type": "code",
   "execution_count": 36,
   "id": "aIGuNFdUMWrR",
   "metadata": {
    "id": "aIGuNFdUMWrR"
   },
   "outputs": [],
   "source": [
    "### changer les valeurs manquantes par 0 pour 'reviews_per_month'\n",
    "df['reviews_per_month'].fillna(0, inplace=True)\n",
    "df['bedrooms'].fillna(0, inplace=True)\n",
    "df['bathrooms'].fillna(0, inplace=True)####\n",
    "df['neighbourhood'].fillna(0, inplace=True)"
   ]
  },
  {
   "cell_type": "code",
   "execution_count": 36,
   "id": "9SjW_7IOMWzM",
   "metadata": {
    "id": "9SjW_7IOMWzM"
   },
   "outputs": [],
   "source": []
  },
  {
   "cell_type": "code",
   "execution_count": 37,
   "id": "646c2f91",
   "metadata": {
    "colab": {
     "base_uri": "https://localhost:8080/"
    },
    "id": "646c2f91",
    "outputId": "582c9d20-6878-46e7-f474-11c831bcdd05"
   },
   "outputs": [
    {
     "data": {
      "text/plain": [
       "neighbourhood        0\n",
       "latitude             0\n",
       "longitude            0\n",
       "property_type        0\n",
       "room_type            0\n",
       "accommodates         0\n",
       "bathrooms            0\n",
       "bedrooms             0\n",
       "amenities            0\n",
       "price                0\n",
       "minimum_nights       0\n",
       "maximum_nights       0\n",
       "availability_30      0\n",
       "availability_60      0\n",
       "availability_90      0\n",
       "reviews_per_month    0\n",
       "dtype: int64"
      ]
     },
     "execution_count": 37,
     "metadata": {
      "tags": []
     },
     "output_type": "execute_result"
    }
   ],
   "source": [
    "##df.dropna(how='any',inplace=True) \n",
    "\n",
    "### verifiers les valeurs manquantes \n",
    "df.isnull().sum()"
   ]
  },
  {
   "cell_type": "code",
   "execution_count": 41,
   "id": "X3aWQ5m5PdNE",
   "metadata": {
    "id": "X3aWQ5m5PdNE"
   },
   "outputs": [],
   "source": [
    "df.drop(['bathrooms'],  axis=1, inplace=True)"
   ]
  },
  {
   "cell_type": "code",
   "execution_count": 50,
   "id": "ftD6VjfuSul4",
   "metadata": {
    "id": "ftD6VjfuSul4"
   },
   "outputs": [],
   "source": [
    "### Extraire $ de du prix et remplacer la virguler\n",
    "df['price'] = df['price'].str.replace(',', '').str.replace('$', '').astype(float)"
   ]
  },
  {
   "cell_type": "code",
   "execution_count": 51,
   "id": "CH9NusZBQU9P",
   "metadata": {
    "colab": {
     "base_uri": "https://localhost:8080/",
     "height": 410
    },
    "id": "CH9NusZBQU9P",
    "outputId": "465bb82d-2378-4505-d66c-3ed1bb54e7f9"
   },
   "outputs": [
    {
     "data": {
      "text/html": [
       "<div>\n",
       "<style scoped>\n",
       "    .dataframe tbody tr th:only-of-type {\n",
       "        vertical-align: middle;\n",
       "    }\n",
       "\n",
       "    .dataframe tbody tr th {\n",
       "        vertical-align: top;\n",
       "    }\n",
       "\n",
       "    .dataframe thead th {\n",
       "        text-align: right;\n",
       "    }\n",
       "</style>\n",
       "<table border=\"1\" class=\"dataframe\">\n",
       "  <thead>\n",
       "    <tr style=\"text-align: right;\">\n",
       "      <th></th>\n",
       "      <th>latitude</th>\n",
       "      <th>longitude</th>\n",
       "      <th>accommodates</th>\n",
       "      <th>bedrooms</th>\n",
       "      <th>price</th>\n",
       "      <th>minimum_nights</th>\n",
       "      <th>maximum_nights</th>\n",
       "      <th>availability_30</th>\n",
       "      <th>availability_60</th>\n",
       "      <th>availability_90</th>\n",
       "      <th>reviews_per_month</th>\n",
       "    </tr>\n",
       "  </thead>\n",
       "  <tbody>\n",
       "    <tr>\n",
       "      <th>latitude</th>\n",
       "      <td>1.000000</td>\n",
       "      <td>0.087185</td>\n",
       "      <td>-0.015485</td>\n",
       "      <td>-0.006348</td>\n",
       "      <td>-0.019311</td>\n",
       "      <td>-0.010751</td>\n",
       "      <td>0.007539</td>\n",
       "      <td>-0.015393</td>\n",
       "      <td>-0.021995</td>\n",
       "      <td>-0.025562</td>\n",
       "      <td>-0.020088</td>\n",
       "    </tr>\n",
       "    <tr>\n",
       "      <th>longitude</th>\n",
       "      <td>0.087185</td>\n",
       "      <td>1.000000</td>\n",
       "      <td>-0.024803</td>\n",
       "      <td>-0.012608</td>\n",
       "      <td>-0.095122</td>\n",
       "      <td>0.000712</td>\n",
       "      <td>-0.000683</td>\n",
       "      <td>-0.065932</td>\n",
       "      <td>-0.070590</td>\n",
       "      <td>-0.072423</td>\n",
       "      <td>-0.009157</td>\n",
       "    </tr>\n",
       "    <tr>\n",
       "      <th>accommodates</th>\n",
       "      <td>-0.015485</td>\n",
       "      <td>-0.024803</td>\n",
       "      <td>1.000000</td>\n",
       "      <td>0.607550</td>\n",
       "      <td>0.298279</td>\n",
       "      <td>-0.006547</td>\n",
       "      <td>-0.004177</td>\n",
       "      <td>0.071819</td>\n",
       "      <td>0.070767</td>\n",
       "      <td>0.072306</td>\n",
       "      <td>0.039040</td>\n",
       "    </tr>\n",
       "    <tr>\n",
       "      <th>bedrooms</th>\n",
       "      <td>-0.006348</td>\n",
       "      <td>-0.012608</td>\n",
       "      <td>0.607550</td>\n",
       "      <td>1.000000</td>\n",
       "      <td>0.229437</td>\n",
       "      <td>-0.005078</td>\n",
       "      <td>-0.000315</td>\n",
       "      <td>0.039993</td>\n",
       "      <td>0.039762</td>\n",
       "      <td>0.041208</td>\n",
       "      <td>-0.005218</td>\n",
       "    </tr>\n",
       "    <tr>\n",
       "      <th>price</th>\n",
       "      <td>-0.019311</td>\n",
       "      <td>-0.095122</td>\n",
       "      <td>0.298279</td>\n",
       "      <td>0.229437</td>\n",
       "      <td>1.000000</td>\n",
       "      <td>0.003838</td>\n",
       "      <td>-0.001221</td>\n",
       "      <td>0.103030</td>\n",
       "      <td>0.107517</td>\n",
       "      <td>0.109929</td>\n",
       "      <td>-0.016882</td>\n",
       "    </tr>\n",
       "    <tr>\n",
       "      <th>minimum_nights</th>\n",
       "      <td>-0.010751</td>\n",
       "      <td>0.000712</td>\n",
       "      <td>-0.006547</td>\n",
       "      <td>-0.005078</td>\n",
       "      <td>0.003838</td>\n",
       "      <td>1.000000</td>\n",
       "      <td>0.008305</td>\n",
       "      <td>0.033118</td>\n",
       "      <td>0.033756</td>\n",
       "      <td>0.035582</td>\n",
       "      <td>-0.020217</td>\n",
       "    </tr>\n",
       "    <tr>\n",
       "      <th>maximum_nights</th>\n",
       "      <td>0.007539</td>\n",
       "      <td>-0.000683</td>\n",
       "      <td>-0.004177</td>\n",
       "      <td>-0.000315</td>\n",
       "      <td>-0.001221</td>\n",
       "      <td>0.008305</td>\n",
       "      <td>1.000000</td>\n",
       "      <td>-0.002955</td>\n",
       "      <td>-0.003035</td>\n",
       "      <td>-0.003121</td>\n",
       "      <td>-0.002041</td>\n",
       "    </tr>\n",
       "    <tr>\n",
       "      <th>availability_30</th>\n",
       "      <td>-0.015393</td>\n",
       "      <td>-0.065932</td>\n",
       "      <td>0.071819</td>\n",
       "      <td>0.039993</td>\n",
       "      <td>0.103030</td>\n",
       "      <td>0.033118</td>\n",
       "      <td>-0.002955</td>\n",
       "      <td>1.000000</td>\n",
       "      <td>0.977625</td>\n",
       "      <td>0.951410</td>\n",
       "      <td>0.182245</td>\n",
       "    </tr>\n",
       "    <tr>\n",
       "      <th>availability_60</th>\n",
       "      <td>-0.021995</td>\n",
       "      <td>-0.070590</td>\n",
       "      <td>0.070767</td>\n",
       "      <td>0.039762</td>\n",
       "      <td>0.107517</td>\n",
       "      <td>0.033756</td>\n",
       "      <td>-0.003035</td>\n",
       "      <td>0.977625</td>\n",
       "      <td>1.000000</td>\n",
       "      <td>0.989925</td>\n",
       "      <td>0.190365</td>\n",
       "    </tr>\n",
       "    <tr>\n",
       "      <th>availability_90</th>\n",
       "      <td>-0.025562</td>\n",
       "      <td>-0.072423</td>\n",
       "      <td>0.072306</td>\n",
       "      <td>0.041208</td>\n",
       "      <td>0.109929</td>\n",
       "      <td>0.035582</td>\n",
       "      <td>-0.003121</td>\n",
       "      <td>0.951410</td>\n",
       "      <td>0.989925</td>\n",
       "      <td>1.000000</td>\n",
       "      <td>0.192868</td>\n",
       "    </tr>\n",
       "    <tr>\n",
       "      <th>reviews_per_month</th>\n",
       "      <td>-0.020088</td>\n",
       "      <td>-0.009157</td>\n",
       "      <td>0.039040</td>\n",
       "      <td>-0.005218</td>\n",
       "      <td>-0.016882</td>\n",
       "      <td>-0.020217</td>\n",
       "      <td>-0.002041</td>\n",
       "      <td>0.182245</td>\n",
       "      <td>0.190365</td>\n",
       "      <td>0.192868</td>\n",
       "      <td>1.000000</td>\n",
       "    </tr>\n",
       "  </tbody>\n",
       "</table>\n",
       "</div>"
      ],
      "text/plain": [
       "                   latitude  longitude  ...  availability_90  reviews_per_month\n",
       "latitude           1.000000   0.087185  ...        -0.025562          -0.020088\n",
       "longitude          0.087185   1.000000  ...        -0.072423          -0.009157\n",
       "accommodates      -0.015485  -0.024803  ...         0.072306           0.039040\n",
       "bedrooms          -0.006348  -0.012608  ...         0.041208          -0.005218\n",
       "price             -0.019311  -0.095122  ...         0.109929          -0.016882\n",
       "minimum_nights    -0.010751   0.000712  ...         0.035582          -0.020217\n",
       "maximum_nights     0.007539  -0.000683  ...        -0.003121          -0.002041\n",
       "availability_30   -0.015393  -0.065932  ...         0.951410           0.182245\n",
       "availability_60   -0.021995  -0.070590  ...         0.989925           0.190365\n",
       "availability_90   -0.025562  -0.072423  ...         1.000000           0.192868\n",
       "reviews_per_month -0.020088  -0.009157  ...         0.192868           1.000000\n",
       "\n",
       "[11 rows x 11 columns]"
      ]
     },
     "execution_count": 51,
     "metadata": {
      "tags": []
     },
     "output_type": "execute_result"
    }
   ],
   "source": [
    "df.corr()"
   ]
  },
  {
   "cell_type": "markdown",
   "id": "TjZpuKPYNaxO",
   "metadata": {
    "id": "TjZpuKPYNaxO"
   },
   "source": [
    "***Visualisation des nos données dans uen matrice de correlation*** "
   ]
  },
  {
   "cell_type": "code",
   "execution_count": 52,
   "id": "0JnAV5NsFy2L",
   "metadata": {
    "colab": {
     "base_uri": "https://localhost:8080/",
     "height": 620
    },
    "id": "0JnAV5NsFy2L",
    "outputId": "2f753a82-9703-4e7b-96f5-ed890f5a1cb1"
   },
   "outputs": [
    {
     "data": {
      "text/plain": [
       "<matplotlib.axes._subplots.AxesSubplot at 0x7fed1eee9150>"
      ]
     },
     "execution_count": 52,
     "metadata": {
      "tags": []
     },
     "output_type": "execute_result"
    },
    {
     "data": {
      "image/png": "[encoded data removed]",
      "text/plain": [
       "<Figure size 720x648 with 2 Axes>"
      ]
     },
     "metadata": {
      "needs_background": "light",
      "tags": []
     },
     "output_type": "display_data"
    }
   ],
   "source": [
    "mat_corr = df.corr()\n",
    "plt.subplots(figsize=(10,9))\n",
    "sns.heatmap(mat_corr, vmax=0.99, square=True)"
   ]
  },
  {
   "cell_type": "code",
   "execution_count": 54,
   "id": "OrZhSsj2Tazz",
   "metadata": {
    "colab": {
     "base_uri": "https://localhost:8080/"
    },
    "id": "OrZhSsj2Tazz",
    "outputId": "c7f1e35a-3b8d-4f8c-8256-4133146f139f"
   },
   "outputs": [
    {
     "data": {
      "text/plain": [
       "Paris, Île-de-France, France           34521\n",
       "0                                      25606\n",
       "Paris, France                            764\n",
       "Paris, IDF, France                       411\n",
       "Paris, Île-de-France Region, France      223\n",
       "                                       ...  \n",
       "Paris 13e Arrondissement, France           1\n",
       "Paris 1e, Paris, France                    1\n",
       "Paris , île de France, France              1\n",
       "Paris 8e, Île-de-France, France            1\n",
       "París, Isla de Francia, France             1\n",
       "Name: neighbourhood, Length: 243, dtype: int64"
      ]
     },
     "execution_count": 54,
     "metadata": {
      "tags": []
     },
     "output_type": "execute_result"
    }
   ],
   "source": [
    "### les diffrents quartiers arrondissements d'ile de france\n",
    "df['neighbourhood'].value_counts()"
   ]
  },
  {
   "cell_type": "code",
   "execution_count": 56,
   "id": "AXPPLGnqVt8i",
   "metadata": {
    "colab": {
     "base_uri": "https://localhost:8080/"
    },
    "id": "AXPPLGnqVt8i",
    "outputId": "886c7cee-4571-402a-c972-8cad4727579e"
   },
   "outputs": [
    {
     "name": "stdout",
     "output_type": "stream",
     "text": [
      "<class 'pandas.core.frame.DataFrame'>\n",
      "Int64Index: 63090 entries, 0 to 63089\n",
      "Data columns (total 15 columns):\n",
      " #   Column             Non-Null Count  Dtype  \n",
      "---  ------             --------------  -----  \n",
      " 0   neighbourhood      63090 non-null  object \n",
      " 1   latitude           63090 non-null  float64\n",
      " 2   longitude          63090 non-null  float64\n",
      " 3   property_type      63090 non-null  object \n",
      " 4   room_type          63090 non-null  object \n",
      " 5   accommodates       63090 non-null  int64  \n",
      " 6   bedrooms           63090 non-null  float64\n",
      " 7   amenities          63090 non-null  object \n",
      " 8   price              63090 non-null  float64\n",
      " 9   minimum_nights     63090 non-null  int64  \n",
      " 10  maximum_nights     63090 non-null  int64  \n",
      " 11  availability_30    63090 non-null  int64  \n",
      " 12  availability_60    63090 non-null  int64  \n",
      " 13  availability_90    63090 non-null  int64  \n",
      " 14  reviews_per_month  63090 non-null  float64\n",
      "dtypes: float64(5), int64(6), object(4)\n",
      "memory usage: 10.2+ MB\n"
     ]
    }
   ],
   "source": [
    "df.info()"
   ]
  },
  {
   "cell_type": "code",
   "execution_count": 55,
   "id": "zqQuZIgITa7N",
   "metadata": {
    "colab": {
     "base_uri": "https://localhost:8080/",
     "height": 281
    },
    "id": "zqQuZIgITa7N",
    "outputId": "ea1079c4-a90e-4b09-ed6e-7208bbfb91dd"
   },
   "outputs": [
    {
     "data": {
      "image/png": "[encoded data removed]",
      "text/plain": [
       "<Figure size 432x288 with 1 Axes>"
      ]
     },
     "metadata": {
      "needs_background": "light",
      "tags": []
     },
     "output_type": "display_data"
    }
   ],
   "source": [
    "ax = sns.countplot(x=\"neighbourhood_cleansed\", data=df)##neighbourhood_group_cleansed "
   ]
  },
  {
   "cell_type": "code",
   "execution_count": null,
   "id": "BhzJYnA2TbEA",
   "metadata": {
    "id": "BhzJYnA2TbEA"
   },
   "outputs": [],
   "source": []
  },
  {
   "cell_type": "code",
   "execution_count": null,
   "id": "lbFqXm6LTbJI",
   "metadata": {
    "id": "lbFqXm6LTbJI"
   },
   "outputs": [],
   "source": []
  },
  {
   "cell_type": "code",
   "execution_count": null,
   "id": "54d4f3cc",
   "metadata": {
    "colab": {
     "base_uri": "https://localhost:8080/",
     "height": 405
    },
    "id": "54d4f3cc",
    "outputId": "04f3ee47-8641-4d84-8e3a-109a5bacbd37"
   },
   "outputs": [
    {
     "data": {
      "text/plain": [
       "<matplotlib.axes._subplots.AxesSubplot at 0x7f0a046dd510>"
      ]
     },
     "execution_count": 44,
     "metadata": {
      "tags": []
     },
     "output_type": "execute_result"
    },
    {
     "data": {
      "image/png": "[encoded data removed]",
      "text/plain": [
       "<Figure size 1440x432 with 1 Axes>"
      ]
     },
     "metadata": {
      "needs_background": "light",
      "tags": []
     },
     "output_type": "display_data"
    }
   ],
   "source": [
    "plt.figure(figsize=(20,6))\n",
    "sb.distplot(df['price'], rug=True)"
   ]
  },
  {
   "cell_type": "code",
   "execution_count": null,
   "id": "AdBl_OVBTZau",
   "metadata": {
    "id": "AdBl_OVBTZau"
   },
   "outputs": [],
   "source": []
  },
  {
   "cell_type": "code",
   "execution_count": null,
   "id": "0Lbrb7goTZj2",
   "metadata": {
    "id": "0Lbrb7goTZj2"
   },
   "outputs": [],
   "source": []
  },
  {
   "cell_type": "code",
   "execution_count": null,
   "id": "rNb6Jg08TZox",
   "metadata": {
    "id": "rNb6Jg08TZox"
   },
   "outputs": [],
   "source": []
  },
  {
   "cell_type": "code",
   "execution_count": null,
   "id": "xRARTCgLTZxy",
   "metadata": {
    "id": "xRARTCgLTZxy"
   },
   "outputs": [],
   "source": []
  },
  {
   "cell_type": "markdown",
   "id": "6VFWDkO84UsX",
   "metadata": {
    "id": "6VFWDkO84UsX"
   },
   "source": [
    "**Combien y a-t-il de types de chambres différents ?**\n"
   ]
  },
  {
   "cell_type": "code",
   "execution_count": null,
   "id": "qtIaTTM13_iE",
   "metadata": {
    "colab": {
     "base_uri": "https://localhost:8080/"
    },
    "id": "qtIaTTM13_iE",
    "outputId": "756bd7d3-f654-41a0-a44a-59399c3a2834"
   },
   "outputs": [
    {
     "data": {
      "text/plain": [
       "array(['Entire home/apt', 'Private room', 'Hotel room', 'Shared room'],\n",
       "      dtype=object)"
      ]
     },
     "execution_count": 32,
     "metadata": {
      "tags": []
     },
     "output_type": "execute_result"
    }
   ],
   "source": [
    "\n",
    "df['room_type'].unique()"
   ]
  },
  {
   "cell_type": "markdown",
   "id": "hu9gcmaW5GLW",
   "metadata": {
    "id": "hu9gcmaW5GLW"
   },
   "source": [
    "**Les quartiers qu'on a sur le data set Airbnb Paris ?**\n"
   ]
  },
  {
   "cell_type": "code",
   "execution_count": null,
   "id": "vsxXPY7wpM8A",
   "metadata": {
    "colab": {
     "base_uri": "https://localhost:8080/"
    },
    "id": "vsxXPY7wpM8A",
    "outputId": "0ace6ca7-c400-4f3a-90ad-24fe936dd821"
   },
   "outputs": [
    {
     "data": {
      "text/plain": [
       "<bound method Series.unique of 0                                 NaN\n",
       "1        Paris, Île-de-France, France\n",
       "2        Paris, Ile-de-France, France\n",
       "3                                 NaN\n",
       "4                                 NaN\n",
       "                     ...             \n",
       "63085    Paris, Île-de-France, France\n",
       "63086                             NaN\n",
       "63087                             NaN\n",
       "63088                             NaN\n",
       "63089                             NaN\n",
       "Name: neighbourhood, Length: 63090, dtype: object>"
      ]
     },
     "execution_count": 38,
     "metadata": {
      "tags": []
     },
     "output_type": "execute_result"
    }
   ],
   "source": [
    "df['neighbourhood'].unique"
   ]
  },
  {
   "cell_type": "markdown",
   "id": "Qu5rkB5Trv6w",
   "metadata": {
    "id": "Qu5rkB5Trv6w"
   },
   "source": [
    "**Les prix par rapport aux types de chambre**\n"
   ]
  },
  {
   "cell_type": "code",
   "execution_count": null,
   "id": "3a__pJssqOgz",
   "metadata": {
    "colab": {
     "base_uri": "https://localhost:8080/",
     "height": 508
    },
    "id": "3a__pJssqOgz",
    "outputId": "abdfa416-34b4-405b-faba-a85a878e5c44"
   },
   "outputs": [
    {
     "data": {
      "text/plain": [
       "<matplotlib.axes._subplots.AxesSubplot at 0x7f0a024e13d0>"
      ]
     },
     "execution_count": 47,
     "metadata": {
      "tags": []
     },
     "output_type": "execute_result"
    },
    {
     "data": {
      "image/png": "[encoded data removed]",
      "text/plain": [
       "<Figure size 1440x432 with 1 Axes>"
      ]
     },
     "metadata": {
      "needs_background": "light",
      "tags": []
     },
     "output_type": "display_data"
    }
   ],
   "source": [
    "df.boxplot(column='price', by='room_type', figsize=(20,6), rot=90)"
   ]
  },
  {
   "cell_type": "markdown",
   "id": "Y5Tc9zKhvYRF",
   "metadata": {
    "id": "Y5Tc9zKhvYRF"
   },
   "source": [
    "**Prix selon longitude et latitude**"
   ]
  },
  {
   "cell_type": "code",
   "execution_count": null,
   "id": "gv4wP4nfvLMX",
   "metadata": {
    "colab": {
     "base_uri": "https://localhost:8080/",
     "height": 580
    },
    "id": "gv4wP4nfvLMX",
    "outputId": "58627b9b-0b02-49a6-db82-797674a2c0a2"
   },
   "outputs": [
    {
     "data": {
      "image/png": "[encoded data removed]",
      "text/plain": [
       "<Figure size 720x720 with 2 Axes>"
      ]
     },
     "metadata": {
      "needs_background": "light",
      "tags": []
     },
     "output_type": "display_data"
    }
   ],
   "source": [
    "df.plot.scatter(x='longitude', y='latitude', c='price', figsize=(10,10), cmap='cool', alpha=0.5);"
   ]
  }
 ],
 "metadata": {
  "colab": {
   "collapsed_sections": [],
   "name": "Kindi_DIALLO-Madjop_NDIAYE_Projet2_IASCHOOL_Airbnb.ipynb",
   "provenance": []
  },
  "kernelspec": {
   "display_name": "Python 3",
   "language": "python",
   "name": "python3"
  },
  "language_info": {
   "codemirror_mode": {
    "name": "ipython",
    "version": 3
   },
   "file_extension": ".py",
   "mimetype": "text/x-python",
   "name": "python",
   "nbconvert_exporter": "python",
   "pygments_lexer": "ipython3",
   "version": "3.9.5"
  }
 },
 "nbformat": 4,
 "nbformat_minor": 5
}
